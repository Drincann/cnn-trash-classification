{
 "cells": [
  {
   "cell_type": "markdown",
   "metadata": {
    "id": "FE7KNzPPVrVV"
   },
   "source": [
    "# 使用卷积神经网络的垃圾分类模型之二"
   ]
  },
  {
   "cell_type": "code",
   "execution_count": 37,
   "metadata": {
    "execution": {
     "iopub.execute_input": "2021-11-30T02:22:02.567546Z",
     "iopub.status.busy": "2021-11-30T02:22:02.566868Z",
     "iopub.status.idle": "2021-11-30T02:22:05.491048Z",
     "shell.execute_reply": "2021-11-30T02:22:05.491453Z"
    },
    "id": "L1WtoaOHVrVh"
   },
   "outputs": [],
   "source": [
    "import matplotlib.pyplot as plt\n",
    "import tensorflow as tf\n",
    "from tensorflow import keras\n",
    "import os\n",
    "import globalConfig.config as config\n",
    "import pathlib"
   ]
  },
  {
   "cell_type": "markdown",
   "metadata": {},
   "source": [
    "## 查看 GPU 支持"
   ]
  },
  {
   "cell_type": "code",
   "execution_count": 38,
   "metadata": {},
   "outputs": [
    {
     "name": "stdout",
     "output_type": "stream",
     "text": [
      "[PhysicalDevice(name='/physical_device:GPU:0', device_type='GPU')] [PhysicalDevice(name='/physical_device:CPU:0', device_type='CPU')]\n"
     ]
    }
   ],
   "source": [
    "gpus = tf.config.list_physical_devices(device_type='GPU')\n",
    "cpus = tf.config.list_physical_devices(device_type='CPU')\n",
    "print(gpus, cpus)"
   ]
  },
  {
   "cell_type": "markdown",
   "metadata": {
    "id": "UZZI6lNkVrVm"
   },
   "source": [
    "## 准备原始图片"
   ]
  },
  {
   "cell_type": "markdown",
   "metadata": {},
   "source": [
    "参数："
   ]
  },
  {
   "cell_type": "code",
   "execution_count": 39,
   "metadata": {
    "execution": {
     "iopub.execute_input": "2021-11-30T02:22:05.497171Z",
     "iopub.status.busy": "2021-11-30T02:22:05.495857Z",
     "iopub.status.idle": "2021-11-30T02:22:18.069738Z",
     "shell.execute_reply": "2021-11-30T02:22:18.069080Z"
    },
    "id": "57CcilYSG0zv"
   },
   "outputs": [],
   "source": [
    "\n",
    "dataDir = pathlib.Path(config.modelMulClassi.dataDir)"
   ]
  },
  {
   "cell_type": "markdown",
   "metadata": {
    "id": "xyDNn9MbIzfT"
   },
   "source": [
    "## 分割数据集"
   ]
  },
  {
   "cell_type": "markdown",
   "metadata": {
    "id": "anqiK_AGI086"
   },
   "source": [
    "图片统一缩放到 180 x 180 x colorChannel\n",
    "\n",
    "每个样本集取默认值 32"
   ]
  },
  {
   "cell_type": "markdown",
   "metadata": {},
   "source": [
    "参数："
   ]
  },
  {
   "cell_type": "code",
   "execution_count": 40,
   "metadata": {},
   "outputs": [],
   "source": [
    "imgHeight = config.modelMulClassi.imgHeight\n",
    "imgWidth = config.modelMulClassi.imgWidth\n",
    "batchSize = config.modelMulClassi.batchSize"
   ]
  },
  {
   "cell_type": "code",
   "execution_count": 41,
   "metadata": {
    "execution": {
     "iopub.execute_input": "2021-11-30T02:22:18.383892Z",
     "iopub.status.busy": "2021-11-30T02:22:18.382900Z",
     "iopub.status.idle": "2021-11-30T02:22:20.167268Z",
     "shell.execute_reply": "2021-11-30T02:22:20.167648Z"
    },
    "id": "fIR0kRZiI_AT"
   },
   "outputs": [
    {
     "name": "stdout",
     "output_type": "stream",
     "text": [
      "Found 2970 files belonging to 5 classes.\n",
      "Using 2376 files for training.\n",
      "Found 2970 files belonging to 5 classes.\n",
      "Using 594 files for validation.\n"
     ]
    },
    {
     "data": {
      "text/plain": [
       "\"labels ['cardboard', 'glass', 'metal', 'paper', 'plastic']\""
      ]
     },
     "execution_count": 41,
     "metadata": {},
     "output_type": "execute_result"
    }
   ],
   "source": [
    "trainDataset = tf.keras.utils.image_dataset_from_directory(\n",
    "    dataDir,\n",
    "    validation_split=0.2,\n",
    "    subset=\"training\",\n",
    "    seed=123,\n",
    "    image_size=(imgHeight, imgWidth),\n",
    "    batch_size=batchSize\n",
    ")\n",
    "valDataset = tf.keras.utils.image_dataset_from_directory(\n",
    "    dataDir,\n",
    "    validation_split=0.2,\n",
    "    subset=\"validation\",\n",
    "    seed=123,\n",
    "    image_size=(imgHeight, imgWidth),\n",
    "    batch_size=batchSize\n",
    ")\n",
    "classNames = trainDataset.class_names\n",
    "f'labels {classNames}'"
   ]
  },
  {
   "cell_type": "markdown",
   "metadata": {
    "id": "WLQULyAvJC3X"
   },
   "source": [
    "以第一个样本集为例"
   ]
  },
  {
   "cell_type": "code",
   "execution_count": 42,
   "metadata": {
    "execution": {
     "iopub.execute_input": "2021-11-30T02:22:20.311132Z",
     "iopub.status.busy": "2021-11-30T02:22:20.310115Z",
     "iopub.status.idle": "2021-11-30T02:22:21.095146Z",
     "shell.execute_reply": "2021-11-30T02:22:21.095818Z"
    },
    "id": "wBmEA9c0JYes"
   },
   "outputs": [],
   "source": [
    "# plt.figure(figsize=(22, 12))\n",
    "# for images, labels in trainDataset.take(1):\n",
    "#   for i in range(1, 33):\n",
    "#     ax = plt.subplot(4, 8, i)\n",
    "#     plt.imshow(images[i - 1].numpy().astype(\"uint8\"))\n",
    "#     plt.title(classNames[labels[i - 1]])"
   ]
  },
  {
   "cell_type": "markdown",
   "metadata": {
    "id": "4Dr0at41KcAU"
   },
   "source": [
    "将数据集缓存在内存"
   ]
  },
  {
   "cell_type": "code",
   "execution_count": 43,
   "metadata": {
    "execution": {
     "iopub.execute_input": "2021-11-30T02:22:21.246269Z",
     "iopub.status.busy": "2021-11-30T02:22:21.245385Z",
     "iopub.status.idle": "2021-11-30T02:22:21.249997Z",
     "shell.execute_reply": "2021-11-30T02:22:21.250377Z"
    },
    "id": "nOjJSm7DKoZA"
   },
   "outputs": [],
   "source": [
    "trainDataset = trainDataset.cache().shuffle(1000).prefetch(buffer_size=tf.data.AUTOTUNE)\n",
    "valDataset = valDataset.cache().prefetch(buffer_size=tf.data.AUTOTUNE)"
   ]
  },
  {
   "cell_type": "markdown",
   "metadata": {
    "id": "8GUnmPF4JvEf"
   },
   "source": [
    "## 模型创建"
   ]
  },
  {
   "cell_type": "code",
   "execution_count": 44,
   "metadata": {},
   "outputs": [],
   "source": [
    "modelConfiguration = [ keras.layers.InputLayer(input_shape=(imgHeight, imgWidth, 3)) ]"
   ]
  },
  {
   "cell_type": "markdown",
   "metadata": {},
   "source": [
    "### 数据增强层\n",
    "\n",
    "这一层用来对数据进行随机的平移、旋转和缩放，增强模型的泛化能力，这是减少过拟合措施的一部分。"
   ]
  },
  {
   "cell_type": "code",
   "execution_count": 45,
   "metadata": {},
   "outputs": [],
   "source": [
    "modelConfiguration.extend([\n",
    "    keras.layers.RandomFlip(\"horizontal\"),\n",
    "    keras.layers.RandomRotation(0.1),\n",
    "    keras.layers.RandomZoom(0.1),\n",
    "])"
   ]
  },
  {
   "cell_type": "markdown",
   "metadata": {
    "id": "e56VXHMWJxYT"
   },
   "source": [
    "### 输入规范化层\n",
    "\n",
    "将每个 colorChannel [0, 255] -> [0, 1]\n",
    "\n",
    "另外，输入的数据集已经在 `tf.keras.utils.image_dataset_from_directory` 做过预处理缩放，所以不需要再加入缩放层"
   ]
  },
  {
   "cell_type": "code",
   "execution_count": 46,
   "metadata": {
    "execution": {
     "iopub.execute_input": "2021-11-30T02:22:21.257518Z",
     "iopub.status.busy": "2021-11-30T02:22:21.254620Z",
     "iopub.status.idle": "2021-11-30T02:22:21.259342Z",
     "shell.execute_reply": "2021-11-30T02:22:21.259731Z"
    },
    "id": "PEYxo2CTJvY9"
   },
   "outputs": [],
   "source": [
    "modelConfiguration.append(keras.layers.Rescaling(1. / 255))\n",
    "# modelConfiguration.append(tf.keras.layers.Resizing(imgHeight, imgWidth))"
   ]
  },
  {
   "cell_type": "markdown",
   "metadata": {},
   "source": [
    "### 卷积、池化层\n",
    "\n",
    "包含三个卷积核大小为 3 的二维卷积块，\n",
    "\n",
    "在每个二维卷积块处理后紧邻一个最大池化层来提取合并特征。"
   ]
  },
  {
   "cell_type": "code",
   "execution_count": 47,
   "metadata": {},
   "outputs": [],
   "source": [
    "modelConfiguration.extend([\n",
    "    keras.layers.Conv2D(16, 3, padding='same', activation='relu'),\n",
    "    keras.layers.MaxPooling2D(),\n",
    "    keras.layers.Conv2D(32, 3, padding='same', activation='relu'),\n",
    "    keras.layers.MaxPooling2D(),\n",
    "    keras.layers.Conv2D(64, 3, padding='same', activation='relu'),\n",
    "    keras.layers.MaxPooling2D(),\n",
    "])"
   ]
  },
  {
   "cell_type": "markdown",
   "metadata": {},
   "source": [
    "### 过渡层\n",
    "\n",
    "从最后一个最大池化层处理后，我们输出的三维特征在一维展平\n",
    "\n",
    "但在此之前，我们向网络中引入 dropout 正则化，让每次训练时随机忽略一部分神经元。换句话讲，这些神经元在正向传播时对下游的启动影响被忽略，反向传播时也不会更新权重。"
   ]
  },
  {
   "cell_type": "code",
   "execution_count": 48,
   "metadata": {},
   "outputs": [],
   "source": [
    "modelConfiguration.extend([\n",
    "    keras.layers.Dropout(0.4),\n",
    "    keras.layers.Flatten()\n",
    "])"
   ]
  },
  {
   "cell_type": "markdown",
   "metadata": {},
   "source": [
    "### 全连接层\n",
    "\n",
    "这可以让网络对某个神经元的权重变化更不敏感，增加泛化能力，这是减少过拟合措施的一部分。\n",
    "\n",
    "然后经过一个 128 个单元的全连接网络层，进行对输出特征的分类，最后再经过一个 Dropout 层，\n",
    "\n",
    "最终在一个包含 label 数量的全连接层输出结果向量，作为分类结果。"
   ]
  },
  {
   "cell_type": "code",
   "execution_count": 49,
   "metadata": {},
   "outputs": [],
   "source": [
    "modelConfiguration.extend([\n",
    "    keras.layers.Dense(128, activation='relu'),\n",
    "    keras.layers.Dropout(0.4),\n",
    "    keras.layers.Dense(len(classNames))\n",
    "])"
   ]
  },
  {
   "cell_type": "markdown",
   "metadata": {},
   "source": [
    "### 编译模型"
   ]
  },
  {
   "cell_type": "code",
   "execution_count": 50,
   "metadata": {},
   "outputs": [
    {
     "name": "stdout",
     "output_type": "stream",
     "text": [
      "Model: \"sequential_2\"\n",
      "_________________________________________________________________\n",
      " Layer (type)                Output Shape              Param #   \n",
      "=================================================================\n",
      " random_flip_2 (RandomFlip)  (None, 180, 180, 3)       0         \n",
      "                                                                 \n",
      " random_rotation_2 (RandomRo  (None, 180, 180, 3)      0         \n",
      " tation)                                                         \n",
      "                                                                 \n",
      " random_zoom_2 (RandomZoom)  (None, 180, 180, 3)       0         \n",
      "                                                                 \n",
      " rescaling_2 (Rescaling)     (None, 180, 180, 3)       0         \n",
      "                                                                 \n",
      " conv2d_6 (Conv2D)           (None, 180, 180, 16)      448       \n",
      "                                                                 \n",
      " max_pooling2d_6 (MaxPooling  (None, 90, 90, 16)       0         \n",
      " 2D)                                                             \n",
      "                                                                 \n",
      " conv2d_7 (Conv2D)           (None, 90, 90, 32)        4640      \n",
      "                                                                 \n",
      " max_pooling2d_7 (MaxPooling  (None, 45, 45, 32)       0         \n",
      " 2D)                                                             \n",
      "                                                                 \n",
      " conv2d_8 (Conv2D)           (None, 45, 45, 64)        18496     \n",
      "                                                                 \n",
      " max_pooling2d_8 (MaxPooling  (None, 22, 22, 64)       0         \n",
      " 2D)                                                             \n",
      "                                                                 \n",
      " dropout_2 (Dropout)         (None, 22, 22, 64)        0         \n",
      "                                                                 \n",
      " flatten_2 (Flatten)         (None, 30976)             0         \n",
      "                                                                 \n",
      " dense_4 (Dense)             (None, 128)               3965056   \n",
      "                                                                 \n",
      " dropout_3 (Dropout)         (None, 128)               0         \n",
      "                                                                 \n",
      " dense_5 (Dense)             (None, 5)                 645       \n",
      "                                                                 \n",
      "=================================================================\n",
      "Total params: 3,989,285\n",
      "Trainable params: 3,989,285\n",
      "Non-trainable params: 0\n",
      "_________________________________________________________________\n"
     ]
    }
   ],
   "source": [
    "model = keras.models.Sequential(modelConfiguration)\n",
    "model.compile(\n",
    "    optimizer='adam',\n",
    "    loss=keras.losses.SparseCategoricalCrossentropy(from_logits=True),\n",
    "    metrics=['accuracy']\n",
    ")\n",
    "model.summary()"
   ]
  },
  {
   "cell_type": "markdown",
   "metadata": {
    "id": "WcUTyDOPKucd"
   },
   "source": [
    "## 训练\n",
    "\n",
    "优化方法选择 Adam，它是一种基于一阶和二阶矩自适应估计的随机梯度下降方法。\n",
    "\n",
    "损失函数通过预测和标签之间的交叉熵损失提供梯度，由 `SparseCategoricalCrossentropy` 调用提供。"
   ]
  },
  {
   "cell_type": "markdown",
   "metadata": {},
   "source": [
    "参数："
   ]
  },
  {
   "cell_type": "code",
   "execution_count": 51,
   "metadata": {},
   "outputs": [],
   "source": [
    "epochs=config.modelMulClassi.epochs"
   ]
  },
  {
   "cell_type": "code",
   "execution_count": 52,
   "metadata": {
    "execution": {
     "iopub.execute_input": "2021-11-30T02:22:22.778928Z",
     "iopub.status.busy": "2021-11-30T02:22:22.778107Z",
     "iopub.status.idle": "2021-11-30T02:22:42.451060Z",
     "shell.execute_reply": "2021-11-30T02:22:42.450526Z"
    },
    "id": "5fWToCqYMErH"
   },
   "outputs": [
    {
     "name": "stdout",
     "output_type": "stream",
     "text": [
      "Epoch 1/30\n",
      "75/75 [==============================] - 34s 111ms/step - loss: 1.6459 - accuracy: 0.2955 - val_loss: 1.3417 - val_accuracy: 0.4394\n",
      "Epoch 2/30\n",
      "75/75 [==============================] - 2s 24ms/step - loss: 1.3937 - accuracy: 0.3847 - val_loss: 1.2923 - val_accuracy: 0.4714\n",
      "Epoch 3/30\n",
      "75/75 [==============================] - 2s 23ms/step - loss: 1.2901 - accuracy: 0.4499 - val_loss: 1.1734 - val_accuracy: 0.5354\n",
      "Epoch 4/30\n",
      "75/75 [==============================] - 2s 24ms/step - loss: 1.2222 - accuracy: 0.4794 - val_loss: 1.1822 - val_accuracy: 0.4461\n",
      "Epoch 5/30\n",
      "75/75 [==============================] - 2s 24ms/step - loss: 1.1789 - accuracy: 0.5139 - val_loss: 1.0827 - val_accuracy: 0.5640\n",
      "Epoch 6/30\n",
      "75/75 [==============================] - 2s 24ms/step - loss: 1.1187 - accuracy: 0.5379 - val_loss: 1.0868 - val_accuracy: 0.6027\n",
      "Epoch 7/30\n",
      "75/75 [==============================] - 2s 24ms/step - loss: 1.0988 - accuracy: 0.5425 - val_loss: 1.1142 - val_accuracy: 0.5606\n",
      "Epoch 8/30\n",
      "75/75 [==============================] - 2s 23ms/step - loss: 1.0718 - accuracy: 0.5602 - val_loss: 1.0721 - val_accuracy: 0.5623\n",
      "Epoch 9/30\n",
      "75/75 [==============================] - 2s 24ms/step - loss: 1.0560 - accuracy: 0.5715 - val_loss: 1.0877 - val_accuracy: 0.5842\n",
      "Epoch 10/30\n",
      "75/75 [==============================] - 2s 24ms/step - loss: 0.9976 - accuracy: 0.6019 - val_loss: 1.0760 - val_accuracy: 0.5960\n",
      "Epoch 11/30\n",
      "75/75 [==============================] - 2s 23ms/step - loss: 1.0185 - accuracy: 0.5926 - val_loss: 1.0143 - val_accuracy: 0.6061\n",
      "Epoch 12/30\n",
      "75/75 [==============================] - 2s 24ms/step - loss: 0.9735 - accuracy: 0.6330 - val_loss: 1.0055 - val_accuracy: 0.6347\n",
      "Epoch 13/30\n",
      "75/75 [==============================] - 2s 24ms/step - loss: 0.9130 - accuracy: 0.6439 - val_loss: 0.9393 - val_accuracy: 0.6431\n",
      "Epoch 14/30\n",
      "75/75 [==============================] - 2s 24ms/step - loss: 0.9433 - accuracy: 0.6427 - val_loss: 0.9778 - val_accuracy: 0.6347\n",
      "Epoch 15/30\n",
      "75/75 [==============================] - 2s 24ms/step - loss: 0.9079 - accuracy: 0.6549 - val_loss: 0.9461 - val_accuracy: 0.6448\n",
      "Epoch 16/30\n",
      "75/75 [==============================] - 2s 24ms/step - loss: 0.8492 - accuracy: 0.6785 - val_loss: 0.9338 - val_accuracy: 0.6869\n",
      "Epoch 17/30\n",
      "75/75 [==============================] - 2s 23ms/step - loss: 0.8389 - accuracy: 0.6818 - val_loss: 0.9347 - val_accuracy: 0.6566\n",
      "Epoch 18/30\n",
      "75/75 [==============================] - 2s 23ms/step - loss: 0.8123 - accuracy: 0.7058 - val_loss: 0.9248 - val_accuracy: 0.6902\n",
      "Epoch 19/30\n",
      "75/75 [==============================] - 2s 23ms/step - loss: 0.7756 - accuracy: 0.7138 - val_loss: 0.8668 - val_accuracy: 0.7088\n",
      "Epoch 20/30\n",
      "75/75 [==============================] - 2s 23ms/step - loss: 0.7545 - accuracy: 0.7134 - val_loss: 0.8540 - val_accuracy: 0.7071\n",
      "Epoch 21/30\n",
      "75/75 [==============================] - 2s 23ms/step - loss: 0.7771 - accuracy: 0.7117 - val_loss: 1.0299 - val_accuracy: 0.6481\n",
      "Epoch 22/30\n",
      "75/75 [==============================] - 2s 24ms/step - loss: 0.7227 - accuracy: 0.7315 - val_loss: 0.8899 - val_accuracy: 0.6987\n",
      "Epoch 23/30\n",
      "75/75 [==============================] - 2s 23ms/step - loss: 0.7397 - accuracy: 0.7256 - val_loss: 0.8019 - val_accuracy: 0.7273\n",
      "Epoch 24/30\n",
      "75/75 [==============================] - 2s 22ms/step - loss: 0.7350 - accuracy: 0.7294 - val_loss: 0.8274 - val_accuracy: 0.7172\n",
      "Epoch 25/30\n",
      "75/75 [==============================] - 2s 23ms/step - loss: 0.7030 - accuracy: 0.7281 - val_loss: 0.8689 - val_accuracy: 0.7205\n",
      "Epoch 26/30\n",
      "75/75 [==============================] - 2s 22ms/step - loss: 0.7116 - accuracy: 0.7348 - val_loss: 0.9385 - val_accuracy: 0.7104\n",
      "Epoch 27/30\n",
      "75/75 [==============================] - 2s 22ms/step - loss: 0.6815 - accuracy: 0.7462 - val_loss: 0.9601 - val_accuracy: 0.6886\n",
      "Epoch 28/30\n",
      "75/75 [==============================] - 2s 22ms/step - loss: 0.6579 - accuracy: 0.7542 - val_loss: 0.8494 - val_accuracy: 0.6987\n",
      "Epoch 29/30\n",
      "75/75 [==============================] - 2s 22ms/step - loss: 0.6166 - accuracy: 0.7723 - val_loss: 0.8799 - val_accuracy: 0.7222\n",
      "Epoch 30/30\n",
      "75/75 [==============================] - 2s 22ms/step - loss: 0.5872 - accuracy: 0.7799 - val_loss: 0.8387 - val_accuracy: 0.7256\n"
     ]
    }
   ],
   "source": [
    "history = model.fit(\n",
    "    trainDataset,\n",
    "    validation_data=valDataset,\n",
    "    epochs=epochs\n",
    ")"
   ]
  },
  {
   "cell_type": "markdown",
   "metadata": {
    "id": "SyFKdQpXMJT4"
   },
   "source": [
    "## 训练表现"
   ]
  },
  {
   "cell_type": "markdown",
   "metadata": {
    "id": "dFvOvmAmMK9w"
   },
   "source": [
    "查看在训练集和验证集上的精确度和损失表现"
   ]
  },
  {
   "cell_type": "code",
   "execution_count": 53,
   "metadata": {
    "execution": {
     "iopub.execute_input": "2021-11-30T02:22:42.508064Z",
     "iopub.status.busy": "2021-11-30T02:22:42.493739Z",
     "iopub.status.idle": "2021-11-30T02:22:42.687243Z",
     "shell.execute_reply": "2021-11-30T02:22:42.686706Z"
    },
    "id": "jWnopEChMMCn"
   },
   "outputs": [
    {
     "data": {
      "image/png": "[encoded data removed]",
      "text/plain": [
       "<Figure size 576x576 with 2 Axes>"
      ]
     },
     "metadata": {
      "needs_background": "light"
     },
     "output_type": "display_data"
    }
   ],
   "source": [
    "acc = history.history['accuracy']\n",
    "valAcc = history.history['val_accuracy']\n",
    "\n",
    "loss = history.history['loss']\n",
    "valLoss = history.history['val_loss']\n",
    "\n",
    "epochs_range = range(epochs)\n",
    "\n",
    "plt.figure(figsize=(8, 8))\n",
    "\n",
    "plt.subplot(1, 2, 1)\n",
    "plt.plot(epochs_range, acc, label='training')\n",
    "plt.plot(epochs_range, valAcc, label='validation')\n",
    "plt.legend(loc='lower right')\n",
    "plt.title('accuracy')\n",
    "\n",
    "plt.subplot(1, 2, 2)\n",
    "plt.plot(epochs_range, loss, label='training')\n",
    "plt.plot(epochs_range, valLoss, label='validation')\n",
    "plt.legend(loc='upper right')\n",
    "plt.title('loss')\n",
    "plt.show()"
   ]
  },
  {
   "cell_type": "markdown",
   "metadata": {
    "id": "hO_jT7HwMrEn"
   },
   "source": [
    "可以看出，在我们使用了数据增强和 dropout 层后，验证集的准确率和损失很好地收敛在了训练集附近，模型的拟合效果不错。"
   ]
  },
  {
   "cell_type": "markdown",
   "metadata": {},
   "source": [
    "## 持久化神经网络权值"
   ]
  },
  {
   "cell_type": "code",
   "execution_count": 54,
   "metadata": {},
   "outputs": [],
   "source": [
    "modelConfig = config.modelMulClassi\n",
    "if not os.path.exists(modelConfig.savedDir):\n",
    "    os.makedirs(modelConfig.savedDir)\n",
    "\n",
    "model.save_weights(os.path.join(modelConfig.savedDir, modelConfig.savedName))"
   ]
  }
 ],
 "metadata": {
  "accelerator": "GPU",
  "colab": {
   "collapsed_sections": [],
   "name": "classification.ipynb",
   "toc_visible": true
  },
  "kernelspec": {
   "display_name": "Python 3",
   "name": "python3"
  },
  "language_info": {
   "codemirror_mode": {
    "name": "ipython",
    "version": 3
   },
   "file_extension": ".py",
   "mimetype": "text/x-python",
   "name": "python",
   "nbconvert_exporter": "python",
   "pygments_lexer": "ipython3",
   "version": "3.9.5"
  }
 },
 "nbformat": 4,
 "nbformat_minor": 0
}
