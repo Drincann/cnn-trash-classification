{
 "cells": [
  {
   "cell_type": "markdown",
   "metadata": {
    "id": "FE7KNzPPVrVV"
   },
   "source": [
    "# 使用卷积神经网络的垃圾分类模型"
   ]
  },
  {
   "cell_type": "code",
   "execution_count": 1,
   "metadata": {
    "execution": {
     "iopub.execute_input": "2021-11-30T02:22:02.567546Z",
     "iopub.status.busy": "2021-11-30T02:22:02.566868Z",
     "iopub.status.idle": "2021-11-30T02:22:05.491048Z",
     "shell.execute_reply": "2021-11-30T02:22:05.491453Z"
    },
    "id": "L1WtoaOHVrVh"
   },
   "outputs": [],
   "source": [
    "import matplotlib.pyplot as plt\n",
    "import tensorflow as tf\n",
    "from tensorflow import keras\n",
    "import os\n",
    "import globalConfig.config as config\n",
    "import pathlib"
   ]
  },
  {
   "cell_type": "markdown",
   "metadata": {},
   "source": [
    "## 查看 GPU 支持"
   ]
  },
  {
   "cell_type": "code",
   "execution_count": 2,
   "metadata": {},
   "outputs": [
    {
     "name": "stdout",
     "output_type": "stream",
     "text": [
      "[PhysicalDevice(name='/physical_device:GPU:0', device_type='GPU')] [PhysicalDevice(name='/physical_device:CPU:0', device_type='CPU')]\n"
     ]
    }
   ],
   "source": [
    "gpus = tf.config.list_physical_devices(device_type='GPU')\n",
    "cpus = tf.config.list_physical_devices(device_type='CPU')\n",
    "print(gpus, cpus)"
   ]
  },
  {
   "cell_type": "markdown",
   "metadata": {
    "id": "UZZI6lNkVrVm"
   },
   "source": [
    "## 准备原始图片"
   ]
  },
  {
   "cell_type": "markdown",
   "metadata": {},
   "source": [
    "参数："
   ]
  },
  {
   "cell_type": "code",
   "execution_count": 3,
   "metadata": {
    "execution": {
     "iopub.execute_input": "2021-11-30T02:22:05.497171Z",
     "iopub.status.busy": "2021-11-30T02:22:05.495857Z",
     "iopub.status.idle": "2021-11-30T02:22:18.069738Z",
     "shell.execute_reply": "2021-11-30T02:22:18.069080Z"
    },
    "id": "57CcilYSG0zv"
   },
   "outputs": [],
   "source": [
    "\n",
    "dataDir = pathlib.Path(config.model2Classi.dataDir)"
   ]
  },
  {
   "cell_type": "markdown",
   "metadata": {},
   "source": [
    "展示："
   ]
  },
  {
   "cell_type": "code",
   "execution_count": 4,
   "metadata": {
    "execution": {
     "iopub.execute_input": "2021-11-30T02:22:18.095513Z",
     "iopub.status.busy": "2021-11-30T02:22:18.094880Z",
     "iopub.status.idle": "2021-11-30T02:22:18.190557Z",
     "shell.execute_reply": "2021-11-30T02:22:18.191023Z"
    },
    "id": "N1loMlbYHeiJ"
   },
   "outputs": [],
   "source": [
    "# O = list(dataDir.glob('organic/*'))\n",
    "# R = list(dataDir.glob('recycle/*'))\n",
    "# PIL.Image.open(str(R[0]))\n",
    "# PIL.Image.open(str(O[0]))"
   ]
  },
  {
   "cell_type": "markdown",
   "metadata": {
    "id": "xyDNn9MbIzfT"
   },
   "source": [
    "## 分割数据集"
   ]
  },
  {
   "cell_type": "markdown",
   "metadata": {
    "id": "anqiK_AGI086"
   },
   "source": [
    "图片统一缩放到 180 x 180 x colorChannel\n",
    "\n",
    "每个样本集取默认值 32"
   ]
  },
  {
   "cell_type": "markdown",
   "metadata": {},
   "source": [
    "参数："
   ]
  },
  {
   "cell_type": "code",
   "execution_count": 5,
   "metadata": {},
   "outputs": [],
   "source": [
    "imgHeight = config.model2Classi.imgHeight\n",
    "imgWidth = config.model2Classi.imgWidth\n",
    "batchSize = config.model2Classi.batchSize"
   ]
  },
  {
   "cell_type": "code",
   "execution_count": 6,
   "metadata": {
    "execution": {
     "iopub.execute_input": "2021-11-30T02:22:18.383892Z",
     "iopub.status.busy": "2021-11-30T02:22:18.382900Z",
     "iopub.status.idle": "2021-11-30T02:22:20.167268Z",
     "shell.execute_reply": "2021-11-30T02:22:20.167648Z"
    },
    "id": "fIR0kRZiI_AT"
   },
   "outputs": [
    {
     "name": "stdout",
     "output_type": "stream",
     "text": [
      "Found 2513 files belonging to 2 classes.\n",
      "Using 2011 files for training.\n",
      "Found 2513 files belonging to 2 classes.\n",
      "Using 502 files for validation.\n"
     ]
    },
    {
     "data": {
      "text/plain": [
       "\"labels ['organic', 'recycle']\""
      ]
     },
     "execution_count": 6,
     "metadata": {},
     "output_type": "execute_result"
    }
   ],
   "source": [
    "trainDataset = tf.keras.utils.image_dataset_from_directory(\n",
    "    dataDir,\n",
    "    validation_split=0.2,\n",
    "    subset=\"training\",\n",
    "    seed=123,\n",
    "    image_size=(imgHeight, imgWidth),\n",
    "    batch_size=batchSize\n",
    ")\n",
    "valDataset = tf.keras.utils.image_dataset_from_directory(\n",
    "    dataDir,\n",
    "    validation_split=0.2,\n",
    "    subset=\"validation\",\n",
    "    seed=123,\n",
    "    image_size=(imgHeight, imgWidth),\n",
    "    batch_size=batchSize\n",
    ")\n",
    "classNames = trainDataset.class_names\n",
    "f'labels {classNames}'"
   ]
  },
  {
   "cell_type": "markdown",
   "metadata": {
    "id": "WLQULyAvJC3X"
   },
   "source": [
    "以第一个样本集为例"
   ]
  },
  {
   "cell_type": "code",
   "execution_count": 7,
   "metadata": {
    "execution": {
     "iopub.execute_input": "2021-11-30T02:22:20.311132Z",
     "iopub.status.busy": "2021-11-30T02:22:20.310115Z",
     "iopub.status.idle": "2021-11-30T02:22:21.095146Z",
     "shell.execute_reply": "2021-11-30T02:22:21.095818Z"
    },
    "id": "wBmEA9c0JYes"
   },
   "outputs": [],
   "source": [
    "# plt.figure(figsize=(22, 12))\n",
    "# for images, labels in trainDataset.take(1):\n",
    "#   for i in range(1, 33):\n",
    "#     ax = plt.subplot(4, 8, i)\n",
    "#     plt.imshow(images[i - 1].numpy().astype(\"uint8\"))\n",
    "#     plt.title(classNames[labels[i - 1]])"
   ]
  },
  {
   "cell_type": "markdown",
   "metadata": {
    "id": "4Dr0at41KcAU"
   },
   "source": [
    "将数据集缓存在内存"
   ]
  },
  {
   "cell_type": "code",
   "execution_count": 8,
   "metadata": {
    "execution": {
     "iopub.execute_input": "2021-11-30T02:22:21.246269Z",
     "iopub.status.busy": "2021-11-30T02:22:21.245385Z",
     "iopub.status.idle": "2021-11-30T02:22:21.249997Z",
     "shell.execute_reply": "2021-11-30T02:22:21.250377Z"
    },
    "id": "nOjJSm7DKoZA"
   },
   "outputs": [],
   "source": [
    "trainDataset = trainDataset.cache().shuffle(1000).prefetch(buffer_size=tf.data.AUTOTUNE)\n",
    "valDataset = valDataset.cache().prefetch(buffer_size=tf.data.AUTOTUNE)"
   ]
  },
  {
   "cell_type": "markdown",
   "metadata": {
    "id": "8GUnmPF4JvEf"
   },
   "source": [
    "## 模型创建"
   ]
  },
  {
   "cell_type": "code",
   "execution_count": 9,
   "metadata": {},
   "outputs": [],
   "source": [
    "modelConfiguration = [ keras.layers.InputLayer(input_shape=(imgHeight, imgWidth, 3)) ]"
   ]
  },
  {
   "cell_type": "markdown",
   "metadata": {},
   "source": [
    "### 数据增强层\n",
    "\n",
    "这一层用来对数据进行随机的平移、旋转和缩放，增强模型的泛化能力，这是减少过拟合措施的一部分。"
   ]
  },
  {
   "cell_type": "code",
   "execution_count": 10,
   "metadata": {},
   "outputs": [],
   "source": [
    "modelConfiguration.extend([\n",
    "    keras.layers.RandomFlip(\"horizontal\"),\n",
    "    keras.layers.RandomRotation(0.1),\n",
    "    keras.layers.RandomZoom(0.1),\n",
    "])"
   ]
  },
  {
   "cell_type": "markdown",
   "metadata": {
    "id": "e56VXHMWJxYT"
   },
   "source": [
    "### 输入规范化层\n",
    "\n",
    "将每个 colorChannel [0, 255] -> [0, 1]\n",
    "\n",
    "另外，输入的数据集已经在 `tf.keras.utils.image_dataset_from_directory` 做过预处理缩放，所以不需要再加入缩放层"
   ]
  },
  {
   "cell_type": "code",
   "execution_count": 11,
   "metadata": {
    "execution": {
     "iopub.execute_input": "2021-11-30T02:22:21.257518Z",
     "iopub.status.busy": "2021-11-30T02:22:21.254620Z",
     "iopub.status.idle": "2021-11-30T02:22:21.259342Z",
     "shell.execute_reply": "2021-11-30T02:22:21.259731Z"
    },
    "id": "PEYxo2CTJvY9"
   },
   "outputs": [],
   "source": [
    "modelConfiguration.append(keras.layers.Rescaling(1. / 255))\n",
    "# modelConfiguration.append(tf.keras.layers.Resizing(imgHeight, imgWidth))"
   ]
  },
  {
   "cell_type": "markdown",
   "metadata": {},
   "source": [
    "### 卷积、池化层\n",
    "\n",
    "包含三个卷积核大小为 3 的二维卷积块，\n",
    "\n",
    "在每个二维卷积块处理后紧邻一个最大池化层来提取合并特征。"
   ]
  },
  {
   "cell_type": "code",
   "execution_count": 12,
   "metadata": {},
   "outputs": [],
   "source": [
    "modelConfiguration.extend([\n",
    "    keras.layers.Conv2D(16, 3, padding='same', activation='relu'),\n",
    "    keras.layers.MaxPooling2D(),\n",
    "    keras.layers.Conv2D(32, 3, padding='same', activation='relu'),\n",
    "    keras.layers.MaxPooling2D(),\n",
    "    keras.layers.Conv2D(64, 3, padding='same', activation='relu'),\n",
    "    keras.layers.MaxPooling2D(),\n",
    "])"
   ]
  },
  {
   "cell_type": "markdown",
   "metadata": {},
   "source": [
    "### 过渡层\n",
    "\n",
    "从最后一个最大池化层处理后，我们输出的三维特征在一维展平\n",
    "\n",
    "但在此之前，我们向网络中引入 dropout 正则化，让每次训练时随机忽略一部分神经元。换句话讲，这些神经元在正向传播时对下游的启动影响被忽略，反向传播时也不会更新权重。"
   ]
  },
  {
   "cell_type": "code",
   "execution_count": 13,
   "metadata": {},
   "outputs": [],
   "source": [
    "modelConfiguration.extend([\n",
    "    keras.layers.Dropout(0.2),\n",
    "    keras.layers.Flatten()\n",
    "])"
   ]
  },
  {
   "cell_type": "markdown",
   "metadata": {},
   "source": [
    "### 全连接层\n",
    "\n",
    "这可以让网络对某个神经元的权重变化更不敏感，增加泛化能力，这是减少过拟合措施的一部分。\n",
    "\n",
    "然后经过一个 128 个单元的全连接网络层，进行对输出特征的分类，\n",
    "\n",
    "最终在一个包含 label 数量的全连接层输出结果向量，作为分类结果。"
   ]
  },
  {
   "cell_type": "code",
   "execution_count": 14,
   "metadata": {},
   "outputs": [],
   "source": [
    "modelConfiguration.extend([\n",
    "    keras.layers.Dense(128, activation='relu'),\n",
    "    keras.layers.Dense(len(classNames))\n",
    "])"
   ]
  },
  {
   "cell_type": "markdown",
   "metadata": {},
   "source": [
    "### 编译模型"
   ]
  },
  {
   "cell_type": "code",
   "execution_count": 15,
   "metadata": {},
   "outputs": [
    {
     "name": "stdout",
     "output_type": "stream",
     "text": [
      "Model: \"sequential\"\n",
      "_________________________________________________________________\n",
      " Layer (type)                Output Shape              Param #   \n",
      "=================================================================\n",
      " random_flip (RandomFlip)    (None, 180, 180, 3)       0         \n",
      "                                                                 \n",
      " random_rotation (RandomRota  (None, 180, 180, 3)      0         \n",
      " tion)                                                           \n",
      "                                                                 \n",
      " random_zoom (RandomZoom)    (None, 180, 180, 3)       0         \n",
      "                                                                 \n",
      " rescaling (Rescaling)       (None, 180, 180, 3)       0         \n",
      "                                                                 \n",
      " conv2d (Conv2D)             (None, 180, 180, 16)      448       \n",
      "                                                                 \n",
      " max_pooling2d (MaxPooling2D  (None, 90, 90, 16)       0         \n",
      " )                                                               \n",
      "                                                                 \n",
      " conv2d_1 (Conv2D)           (None, 90, 90, 32)        4640      \n",
      "                                                                 \n",
      " max_pooling2d_1 (MaxPooling  (None, 45, 45, 32)       0         \n",
      " 2D)                                                             \n",
      "                                                                 \n",
      " conv2d_2 (Conv2D)           (None, 45, 45, 64)        18496     \n",
      "                                                                 \n",
      " max_pooling2d_2 (MaxPooling  (None, 22, 22, 64)       0         \n",
      " 2D)                                                             \n",
      "                                                                 \n",
      " dropout (Dropout)           (None, 22, 22, 64)        0         \n",
      "                                                                 \n",
      " flatten (Flatten)           (None, 30976)             0         \n",
      "                                                                 \n",
      " dense (Dense)               (None, 128)               3965056   \n",
      "                                                                 \n",
      " dense_1 (Dense)             (None, 2)                 258       \n",
      "                                                                 \n",
      "=================================================================\n",
      "Total params: 3,988,898\n",
      "Trainable params: 3,988,898\n",
      "Non-trainable params: 0\n",
      "_________________________________________________________________\n"
     ]
    }
   ],
   "source": [
    "model = keras.models.Sequential(modelConfiguration)\n",
    "model.compile(\n",
    "    optimizer='adam',\n",
    "    loss=keras.losses.SparseCategoricalCrossentropy(from_logits=True),\n",
    "    metrics=['accuracy']\n",
    ")\n",
    "model.summary()"
   ]
  },
  {
   "cell_type": "markdown",
   "metadata": {
    "id": "WcUTyDOPKucd"
   },
   "source": [
    "## 训练\n",
    "\n",
    "优化方法选择 Adam，它是一种基于一阶和二阶矩自适应估计的随机梯度下降方法。\n",
    "\n",
    "损失函数通过预测和标签之间的交叉熵损失提供梯度，由 `SparseCategoricalCrossentropy` 调用提供。"
   ]
  },
  {
   "cell_type": "markdown",
   "metadata": {},
   "source": [
    "参数："
   ]
  },
  {
   "cell_type": "code",
   "execution_count": 16,
   "metadata": {},
   "outputs": [],
   "source": [
    "epochs=10"
   ]
  },
  {
   "cell_type": "code",
   "execution_count": 17,
   "metadata": {
    "execution": {
     "iopub.execute_input": "2021-11-30T02:22:22.778928Z",
     "iopub.status.busy": "2021-11-30T02:22:22.778107Z",
     "iopub.status.idle": "2021-11-30T02:22:42.451060Z",
     "shell.execute_reply": "2021-11-30T02:22:42.450526Z"
    },
    "id": "5fWToCqYMErH"
   },
   "outputs": [
    {
     "name": "stdout",
     "output_type": "stream",
     "text": [
      "Epoch 1/10\n",
      "63/63 [==============================] - 16s 123ms/step - loss: 0.5556 - accuracy: 0.7926 - val_loss: 0.3387 - val_accuracy: 0.9104\n",
      "Epoch 2/10\n",
      "63/63 [==============================] - 7s 109ms/step - loss: 0.3027 - accuracy: 0.8817 - val_loss: 0.2555 - val_accuracy: 0.8884\n",
      "Epoch 3/10\n",
      "63/63 [==============================] - 8s 121ms/step - loss: 0.2310 - accuracy: 0.9100 - val_loss: 0.1827 - val_accuracy: 0.9263\n",
      "Epoch 4/10\n",
      "63/63 [==============================] - 8s 121ms/step - loss: 0.2234 - accuracy: 0.9070 - val_loss: 0.1652 - val_accuracy: 0.9422\n",
      "Epoch 5/10\n",
      "63/63 [==============================] - 7s 104ms/step - loss: 0.2186 - accuracy: 0.9175 - val_loss: 0.1602 - val_accuracy: 0.9303\n",
      "Epoch 6/10\n",
      "63/63 [==============================] - 8s 131ms/step - loss: 0.2048 - accuracy: 0.9184 - val_loss: 0.1334 - val_accuracy: 0.9442\n",
      "Epoch 7/10\n",
      "63/63 [==============================] - 7s 111ms/step - loss: 0.1834 - accuracy: 0.9299 - val_loss: 0.1239 - val_accuracy: 0.9442\n",
      "Epoch 8/10\n",
      "63/63 [==============================] - 8s 121ms/step - loss: 0.1976 - accuracy: 0.9229 - val_loss: 0.1429 - val_accuracy: 0.9402\n",
      "Epoch 9/10\n",
      "63/63 [==============================] - 7s 111ms/step - loss: 0.1775 - accuracy: 0.9279 - val_loss: 0.1251 - val_accuracy: 0.9442\n",
      "Epoch 10/10\n",
      "63/63 [==============================] - 7s 108ms/step - loss: 0.1811 - accuracy: 0.9279 - val_loss: 0.1792 - val_accuracy: 0.9363\n"
     ]
    }
   ],
   "source": [
    "history = model.fit(\n",
    "    trainDataset,\n",
    "    validation_data=valDataset,\n",
    "    epochs=epochs\n",
    ")"
   ]
  },
  {
   "cell_type": "markdown",
   "metadata": {
    "id": "SyFKdQpXMJT4"
   },
   "source": [
    "## 训练表现"
   ]
  },
  {
   "cell_type": "markdown",
   "metadata": {
    "id": "dFvOvmAmMK9w"
   },
   "source": [
    "查看在训练集和验证集上的精确度和损失表现"
   ]
  },
  {
   "cell_type": "code",
   "execution_count": 18,
   "metadata": {
    "execution": {
     "iopub.execute_input": "2021-11-30T02:22:42.508064Z",
     "iopub.status.busy": "2021-11-30T02:22:42.493739Z",
     "iopub.status.idle": "2021-11-30T02:22:42.687243Z",
     "shell.execute_reply": "2021-11-30T02:22:42.686706Z"
    },
    "id": "jWnopEChMMCn"
   },
   "outputs": [
    {
     "data": {
      "image/png": "[encoded data removed]",
      "text/plain": [
       "<Figure size 576x576 with 2 Axes>"
      ]
     },
     "metadata": {
      "needs_background": "light"
     },
     "output_type": "display_data"
    }
   ],
   "source": [
    "acc = history.history['accuracy']\n",
    "val_acc = history.history['val_accuracy']\n",
    "\n",
    "loss = history.history['loss']\n",
    "val_loss = history.history['val_loss']\n",
    "\n",
    "epochs_range = range(epochs)\n",
    "\n",
    "plt.figure(figsize=(8, 8))\n",
    "\n",
    "plt.subplot(1, 2, 1)\n",
    "plt.plot(epochs_range, acc, label='training')\n",
    "plt.plot(epochs_range, val_acc, label='validation')\n",
    "plt.legend(loc='lower right')\n",
    "plt.title('accuracy')\n",
    "\n",
    "plt.subplot(1, 2, 2)\n",
    "plt.plot(epochs_range, loss, label='training')\n",
    "plt.plot(epochs_range, val_loss, label='validation')\n",
    "plt.legend(loc='upper right')\n",
    "plt.title('loss')\n",
    "plt.show()"
   ]
  },
  {
   "cell_type": "markdown",
   "metadata": {
    "id": "hO_jT7HwMrEn"
   },
   "source": [
    "可以看出，在我们使用了数据增强和 dropout 层后，验证集的准确率和损失很好地收敛在了训练集附近，模型的拟合效果不错。"
   ]
  },
  {
   "cell_type": "markdown",
   "metadata": {},
   "source": [
    "## 持久化神经网络权值"
   ]
  },
  {
   "cell_type": "code",
   "execution_count": 19,
   "metadata": {},
   "outputs": [],
   "source": [
    "modelConfig = config.model2Classi\n",
    "if not os.path.exists(modelConfig.savedDir):\n",
    "    os.makedirs(modelConfig.savedDir)\n",
    "\n",
    "model.save_weights(os.path.join(modelConfig.savedDir, modelConfig.savedName))"
   ]
  }
 ],
 "metadata": {
  "accelerator": "GPU",
  "colab": {
   "collapsed_sections": [],
   "name": "classification.ipynb",
   "toc_visible": true
  },
  "kernelspec": {
   "display_name": "Python 3",
   "name": "python3"
  },
  "language_info": {
   "codemirror_mode": {
    "name": "ipython",
    "version": 3
   },
   "file_extension": ".py",
   "mimetype": "text/x-python",
   "name": "python",
   "nbconvert_exporter": "python",
   "pygments_lexer": "ipython3",
   "version": "3.9.5"
  }
 },
 "nbformat": 4,
 "nbformat_minor": 0
}
